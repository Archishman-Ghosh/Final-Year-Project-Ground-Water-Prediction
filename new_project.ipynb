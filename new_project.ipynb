{
 "cells": [
  {
   "cell_type": "code",
   "execution_count": 1,
   "metadata": {},
   "outputs": [
    {
     "data": {
      "text/html": [
       "<div>\n",
       "<style scoped>\n",
       "    .dataframe tbody tr th:only-of-type {\n",
       "        vertical-align: middle;\n",
       "    }\n",
       "\n",
       "    .dataframe tbody tr th {\n",
       "        vertical-align: top;\n",
       "    }\n",
       "\n",
       "    .dataframe thead th {\n",
       "        text-align: right;\n",
       "    }\n",
       "</style>\n",
       "<table border=\"1\" class=\"dataframe\">\n",
       "  <thead>\n",
       "    <tr style=\"text-align: right;\">\n",
       "      <th></th>\n",
       "      <th>States</th>\n",
       "      <th>Recharge from rainfallMonsoon season</th>\n",
       "      <th>Recharge from other sources</th>\n",
       "      <th>Recharge from rainfallNon-monsoon season</th>\n",
       "      <th>Total_Rainfall</th>\n",
       "      <th>Natural discharge during non-monsoon season</th>\n",
       "      <th>Net annual groundwater availability</th>\n",
       "      <th>Irrigation</th>\n",
       "      <th>Domestic and industrial uses</th>\n",
       "      <th>Total_Usage</th>\n",
       "      <th>Projected demand for domestic and industrial uses upto 2025</th>\n",
       "      <th>Groundwater availability for future irrigation use</th>\n",
       "      <th>Situation</th>\n",
       "    </tr>\n",
       "  </thead>\n",
       "  <tbody>\n",
       "    <tr>\n",
       "      <th>0</th>\n",
       "      <td>Andhra Pradesh</td>\n",
       "      <td>15.1</td>\n",
       "      <td>6.5000</td>\n",
       "      <td>5.5</td>\n",
       "      <td>33.8</td>\n",
       "      <td>3.1</td>\n",
       "      <td>30.8</td>\n",
       "      <td>12.600</td>\n",
       "      <td>1.500</td>\n",
       "      <td>14.200</td>\n",
       "      <td>2.70</td>\n",
       "      <td>15.9</td>\n",
       "      <td>EXCESS</td>\n",
       "    </tr>\n",
       "    <tr>\n",
       "      <th>1</th>\n",
       "      <td>Arunachal Pradesh</td>\n",
       "      <td>3.4</td>\n",
       "      <td>0.0003</td>\n",
       "      <td>1.0</td>\n",
       "      <td>4.5</td>\n",
       "      <td>0.5</td>\n",
       "      <td>4.0</td>\n",
       "      <td>0.002</td>\n",
       "      <td>0.001</td>\n",
       "      <td>0.003</td>\n",
       "      <td>0.01</td>\n",
       "      <td>4.0</td>\n",
       "      <td>SEMICRITICAL</td>\n",
       "    </tr>\n",
       "    <tr>\n",
       "      <th>2</th>\n",
       "      <td>Assam</td>\n",
       "      <td>19.0</td>\n",
       "      <td>2.2000</td>\n",
       "      <td>8.6</td>\n",
       "      <td>30.4</td>\n",
       "      <td>2.5</td>\n",
       "      <td>27.8</td>\n",
       "      <td>5.300</td>\n",
       "      <td>0.700</td>\n",
       "      <td>6.000</td>\n",
       "      <td>1.00</td>\n",
       "      <td>21.5</td>\n",
       "      <td>EXCESS</td>\n",
       "    </tr>\n",
       "    <tr>\n",
       "      <th>3</th>\n",
       "      <td>Bihar</td>\n",
       "      <td>18.9</td>\n",
       "      <td>3.9000</td>\n",
       "      <td>3.4</td>\n",
       "      <td>28.6</td>\n",
       "      <td>2.4</td>\n",
       "      <td>26.2</td>\n",
       "      <td>9.800</td>\n",
       "      <td>1.600</td>\n",
       "      <td>11.400</td>\n",
       "      <td>2.60</td>\n",
       "      <td>13.9</td>\n",
       "      <td>MODERATED</td>\n",
       "    </tr>\n",
       "    <tr>\n",
       "      <th>4</th>\n",
       "      <td>Chhattisgarh</td>\n",
       "      <td>9.9</td>\n",
       "      <td>0.6000</td>\n",
       "      <td>0.9</td>\n",
       "      <td>12.2</td>\n",
       "      <td>0.6</td>\n",
       "      <td>11.6</td>\n",
       "      <td>3.100</td>\n",
       "      <td>0.500</td>\n",
       "      <td>3.600</td>\n",
       "      <td>0.60</td>\n",
       "      <td>7.9</td>\n",
       "      <td>MODERATED</td>\n",
       "    </tr>\n",
       "  </tbody>\n",
       "</table>\n",
       "</div>"
      ],
      "text/plain": [
       "              States  Recharge from rainfallMonsoon season  \\\n",
       "0     Andhra Pradesh                                  15.1   \n",
       "1  Arunachal Pradesh                                   3.4   \n",
       "2              Assam                                  19.0   \n",
       "3              Bihar                                  18.9   \n",
       "4       Chhattisgarh                                   9.9   \n",
       "\n",
       "   Recharge from other sources  Recharge from rainfallNon-monsoon season  \\\n",
       "0                       6.5000                                       5.5   \n",
       "1                       0.0003                                       1.0   \n",
       "2                       2.2000                                       8.6   \n",
       "3                       3.9000                                       3.4   \n",
       "4                       0.6000                                       0.9   \n",
       "\n",
       "   Total_Rainfall  Natural discharge during non-monsoon season  \\\n",
       "0            33.8                                          3.1   \n",
       "1             4.5                                          0.5   \n",
       "2            30.4                                          2.5   \n",
       "3            28.6                                          2.4   \n",
       "4            12.2                                          0.6   \n",
       "\n",
       "   Net annual groundwater availability  Irrigation  \\\n",
       "0                                 30.8      12.600   \n",
       "1                                  4.0       0.002   \n",
       "2                                 27.8       5.300   \n",
       "3                                 26.2       9.800   \n",
       "4                                 11.6       3.100   \n",
       "\n",
       "   Domestic and industrial uses  Total_Usage  \\\n",
       "0                         1.500       14.200   \n",
       "1                         0.001        0.003   \n",
       "2                         0.700        6.000   \n",
       "3                         1.600       11.400   \n",
       "4                         0.500        3.600   \n",
       "\n",
       "   Projected demand for domestic and industrial uses upto 2025  \\\n",
       "0                                               2.70             \n",
       "1                                               0.01             \n",
       "2                                               1.00             \n",
       "3                                               2.60             \n",
       "4                                               0.60             \n",
       "\n",
       "   Groundwater availability for future irrigation use      Situation  \n",
       "0                                               15.9          EXCESS  \n",
       "1                                                4.0   SEMICRITICAL   \n",
       "2                                               21.5          EXCESS  \n",
       "3                                               13.9       MODERATED  \n",
       "4                                                7.9       MODERATED  "
      ]
     },
     "execution_count": 1,
     "metadata": {},
     "output_type": "execute_result"
    }
   ],
   "source": [
    "import pandas as pd\n",
    "import seaborn as sb\n",
    "\n",
    "data=pd.read_csv(\"data.csv\")\n",
    "data.head()"
   ]
  },
  {
   "cell_type": "code",
   "execution_count": 2,
   "metadata": {},
   "outputs": [
    {
     "data": {
      "image/png": "[encoded data removed]",
      "text/plain": [
       "<Figure size 432x288 with 1 Axes>"
      ]
     },
     "metadata": {
      "needs_background": "light"
     },
     "output_type": "display_data"
    }
   ],
   "source": [
    "sb.countplot(x='Situation',data=data,palette='bright')\n",
    "X = data.iloc[:, [4,5,6,9,10,11]]\n",
    "Y = data.iloc[:,12]\n",
    "\n",
    "from sklearn.preprocessing import LabelEncoder\n",
    "labelencoder_Y = LabelEncoder()\n",
    "Y = labelencoder_Y.fit_transform(Y)"
   ]
  },
  {
   "cell_type": "code",
   "execution_count": 3,
   "metadata": {},
   "outputs": [],
   "source": [
    "from sklearn.model_selection import train_test_split\n",
    "X_train, X_test, Y_train, Y_test = train_test_split(X, Y, test_size = 1/3, random_state = 0)\n",
    "\n",
    "from sklearn.preprocessing import StandardScaler\n",
    "sc = StandardScaler()\n",
    "X_train = sc.fit_transform(X_train)\n",
    "X_test = sc.transform(X_test)\n"
   ]
  },
  {
   "cell_type": "code",
   "execution_count": 4,
   "metadata": {},
   "outputs": [],
   "source": [
    "from sklearn.linear_model import LogisticRegression\n",
    "classifier = LogisticRegression(random_state = 0)\n",
    "classifier.fit(X_train, Y_train)\n",
    "y_pred = classifier.predict(X_test)"
   ]
  },
  {
   "cell_type": "code",
   "execution_count": 5,
   "metadata": {},
   "outputs": [],
   "source": [
    "from sklearn.metrics import confusion_matrix\n",
    "cm = confusion_matrix(Y_test, y_pred)\n",
    "from sklearn.metrics import accuracy_score\n",
    "score =accuracy_score(Y_test,y_pred)"
   ]
  },
  {
   "cell_type": "code",
   "execution_count": 6,
   "metadata": {},
   "outputs": [],
   "source": [
    "Availabilty = pd.get_dummies(data['Situation'],drop_first=True)\n",
    "data.drop(['Situation'],axis=1,inplace=True)\n",
    "data1 = pd.concat([data,Availabilty],axis=1)\n",
    "X = data1.iloc[:, [4,5,6,9,10,11]]\n",
    "Y = data1.iloc[:,12]"
   ]
  },
  {
   "cell_type": "code",
   "execution_count": 7,
   "metadata": {},
   "outputs": [],
   "source": [
    "from sklearn.model_selection import train_test_split\n",
    "X_train, X_test, Y_train, Y_test = train_test_split(X, Y, test_size = 0.55, random_state = 0)\n",
    "\n",
    "from sklearn.preprocessing import StandardScaler\n",
    "sc = StandardScaler()\n",
    "X_train = sc.fit_transform(X_train)\n",
    "X_test = sc.transform(X_test)"
   ]
  },
  {
   "cell_type": "code",
   "execution_count": 8,
   "metadata": {},
   "outputs": [],
   "source": [
    "from sklearn.linear_model import LogisticRegression\n",
    "classifier = LogisticRegression(random_state=0)\n",
    "classifier.fit(X_train, Y_train)\n",
    "y_pred = classifier.predict(X_test)\n",
    "\n",
    "from sklearn.metrics import confusion_matrix\n",
    "cm = confusion_matrix(Y_test, y_pred)\n",
    "new_score=classifier.score(X_test, Y_test)"
   ]
  },
  {
   "cell_type": "code",
   "execution_count": 9,
   "metadata": {},
   "outputs": [
    {
     "data": {
      "text/plain": [
       "0.9375"
      ]
     },
     "execution_count": 9,
     "metadata": {},
     "output_type": "execute_result"
    }
   ],
   "source": [
    "classifier.score(X_test, Y_test)"
   ]
  },
  {
   "cell_type": "code",
   "execution_count": 10,
   "metadata": {},
   "outputs": [],
   "source": [
    "import matplotlib.pyplot as plt\n",
    "import seaborn as sns\n",
    "from sklearn import metrics"
   ]
  },
  {
   "cell_type": "code",
   "execution_count": 11,
   "metadata": {},
   "outputs": [
    {
     "data": {
      "text/plain": [
       "Text(0.5, 1.0, 'Accuracy Score: 0.9375')"
      ]
     },
     "execution_count": 11,
     "metadata": {},
     "output_type": "execute_result"
    },
    {
     "data": {
      "image/png": "[encoded data removed]",
      "text/plain": [
       "<Figure size 648x648 with 2 Axes>"
      ]
     },
     "metadata": {
      "needs_background": "light"
     },
     "output_type": "display_data"
    }
   ],
   "source": [
    "plt.figure(figsize=(9,9))\n",
    "sns.heatmap(cm, annot=True, fmt=\".3f\", linewidths=.5, square = True, cmap = 'Blues_r');\n",
    "plt.ylabel('Actual label');\n",
    "plt.xlabel('Predicted label');\n",
    "all_sample_title = 'Accuracy Score: {0}'.format(new_score)\n",
    "plt.title(all_sample_title, size = 15)"
   ]
  },
  {
   "cell_type": "code",
   "execution_count": null,
   "metadata": {},
   "outputs": [],
   "source": []
  }
 ],
 "metadata": {
  "kernelspec": {
   "display_name": "Python 3",
   "language": "python",
   "name": "python3"
  },
  "language_info": {
   "codemirror_mode": {
    "name": "ipython",
    "version": 3
   },
   "file_extension": ".py",
   "mimetype": "text/x-python",
   "name": "python",
   "nbconvert_exporter": "python",
   "pygments_lexer": "ipython3",
   "version": "3.8.3"
  }
 },
 "nbformat": 4,
 "nbformat_minor": 5
}
